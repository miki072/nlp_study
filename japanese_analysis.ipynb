{
  "nbformat": 4,
  "nbformat_minor": 0,
  "metadata": {
    "colab": {
      "name": "pkny.ipynb",
      "provenance": [],
      "collapsed_sections": [],
      "toc_visible": true
    },
    "kernelspec": {
      "display_name": "Python 3",
      "name": "python3"
    },
    "language_info": {
      "name": "python"
    }
  },
  "cells": [
    {
      "cell_type": "code",
      "metadata": {
        "colab": {
          "base_uri": "https://localhost:8080/"
        },
        "id": "xUhcOyfzayuC",
        "outputId": "e615329f-47f7-43d8-eacc-1218738a3f91"
      },
      "source": [
        "!wget \"http://nlp.ist.i.kyoto-u.ac.jp/nl-resource/juman/juman-7.01.tar.bz2\"\n",
        "!bzip2 -dc juman-7.01.tar.bz2 | tar xvf -\n",
        "%cd juman-7.01/\n",
        "!./configure\n",
        "!make\n",
        "!make install\n",
        "%cd ..\n",
        "!ldconfig"
      ],
      "execution_count": null,
      "outputs": [
        {
          "output_type": "stream",
          "text": [
          
          ],
          "name": "stdout"
        }
      ]
    },
    {
      "cell_type": "code",
      "metadata": {
        "colab": {
          "base_uri": "https://localhost:8080/"
        },
        "id": "EiOpgVXmbIC0",
        "outputId": "73d35a4b-a9f8-4569-bd30-e528e20fa9ed"
      },
      "source": [
        "! wget http://nlp.ist.i.kyoto-u.ac.jp/nl-resource/knp/knp-4.19.tar.bz2\n",
        "! tar jxvf knp-4.19.tar.bz2\n",
        "% cd knp-4.19\n",
        "!./configure\n",
        "!make\n",
        "!make install"
      ],
      "execution_count": null,
      "outputs": [
        {
          "output_type": "stream",
          "text": [
         
          ],
          "name": "stdout"
        }
      ]
    },
    {
      "cell_type": "code",
      "metadata": {
        "colab": {
          "base_uri": "https://localhost:8080/"
        },
        "id": "3SAuvT8OdGTz",
        "outputId": "d65a07d9-48b3-44bf-d3b9-641b6bfb9dc6"
      },
      "source": [
        "! pip install pyknp"
      ],
      "execution_count": null,
      "outputs": [
        {
          "output_type": "stream",
          "text": [
          
          ],
          "name": "stdout"
        }
      ]
    },
    {
      "cell_type": "code",
      "metadata": {
        "id": "9MdQql_udJYo"
      },
      "source": [
        "#from __future__ import unicode_literals # It is not necessary when you use python3.\n",
        "#from pyknp import KNP\n",
        "import  re"
      ],
      "execution_count": null,
      "outputs": []
    },
    {
      "cell_type": "code",
      "metadata": {
        "colab": {
          "base_uri": "https://localhost:8080/"
        },
        "id": "7EFk06a5nEqt",
        "outputId": "11975098-f580-48ab-cdc6-8dc5261215c9"
      },
      "source": [
        "import requests\n",
        "import numpy as np\n",
        "url = 'https://www.aozora.gr.jp/cards/000035/files/1567_14913.html' #青空文庫\n",
        "res = requests.get(url)\n",
        "try:\n",
        " res.raise_for_status()\n",
        "except Exception as exc:\n",
        " print('Error : {}'.format(exc))\n",
        "\n",
        "from bs4 import BeautifulSoup as bs4\n",
        "no_strach_soup = bs4(res.content, 'lxml')\n",
        "print(type(no_strach_soup))\n",
        "contents = no_strach_soup.find('div', class_=\"main_text\")\n",
        "text = contents.get_text()\n",
        "\n",
        "#テキストの前処理\n",
        "#不要な記号などを省く\n",
        "import re\n",
        "text = re.sub('（.+?）', '', text) \n",
        "text = re.sub('\\n\\n', '\\n', text)\n",
        "text = re.sub('\\r', '', text)\n",
        "text = re.sub(r'[\\u3000 \\t]','', text) \n",
        "text = re.sub(r'\\（.+\\）', '', text)\n",
        "text = text.replace(\"「\", \"\")\n",
        "text = text.replace(\"」\", \"。\")\n",
        "text = text.replace(\"\\n\", \"\")\n",
        "text = text.strip()\n",
        "\n",
        "texts = text.split(\"。\")"
      ],
      "execution_count": null,
      "outputs": [
        {
          "output_type": "stream",
          "text": [
            "<class 'bs4.BeautifulSoup'>\n"
          ],
          "name": "stdout"
        }
      ]
    },
    {
      "cell_type": "code",
      "metadata": {
        "colab": {
          "base_uri": "https://localhost:8080/"
        },
        "id": "tWJ7wMd7E9ie",
        "outputId": "19a360ca-71b0-4723-a057-cf9e0daa1079"
      },
      "source": [
        "for i in range(10):\n",
        "  print(str(texts[i]))"
      ],
      "execution_count": null,
      "outputs": [
        {
          "output_type": "stream",
          "text": [
            "メロスは激怒した\n",
            "必ず、かの邪智暴虐の王を除かなければならぬと決意した\n",
            "メロスには政治がわからぬ\n",
            "メロスは、村の牧人である\n",
            "笛を吹き、羊と遊んで暮して来た\n",
            "けれども邪悪に対しては、人一倍に敏感であった\n",
            "きょう未明メロスは村を出発し、野を越え山越え、十里はなれた此のシラクスの市にやって来た\n",
            "メロスには父も、母も無い\n",
            "女房も無い\n",
            "十六の、内気な妹と二人暮しだ\n"
          ],
          "name": "stdout"
        }
      ]
    },
    {
      "cell_type": "code",
      "metadata": {
        "id": "aIeE2ijGC6Z4"
      },
      "source": [
        "from pyknp import KNP\n",
        "\n",
        "knp = KNP(jumanpp = False)\n",
        "\n",
        "cleaned_texts = []\n",
        "for text in texts:\n",
        "  cleaned_text = []\n",
        "  result = knp.parse(str(text))\n",
        "  for bnst in result.bnst_list():\n",
        "    m = \"\".join(mrph.midasi for mrph in bnst.mrph_list())\n",
        "    m = m.replace(\"。\", \"\")\n",
        "    m = m.replace(\"、\", \"\")\n",
        "    cleaned_text.append(m)\n",
        "  cleaned_texts.append(cleaned_text)\n"
      ],
      "execution_count": null,
      "outputs": []
    },
    {
      "cell_type": "code",
      "metadata": {
        "id": "saz2zuYlD3KL",
        "colab": {
          "base_uri": "https://localhost:8080/"
        },
        "outputId": "f27f6a78-396d-46d7-cbee-2135be63e636"
      },
      "source": [
        "print(cleaned_texts[:3])"
      ],
      "execution_count": null,
      "outputs": [
        {
          "output_type": "stream",
          "text": [
            "[['メロスは', '激怒した'], ['必ず', 'かの', '邪智暴虐の', '王を', '除かなければならぬと', '決意した'], ['メロスには', '政治が', 'わからぬ']]\n"
          ],
          "name": "stdout"
        }
      ]
    },
    {
      "cell_type": "code",
      "metadata": {
        "id": "IyC96KHQHJTx",
        "colab": {
          "base_uri": "https://localhost:8080/"
        },
        "outputId": "4f8d982d-e8bd-4349-dd19-3805618fb4b5"
      },
      "source": [
        "pip install gensim"
      ],
      "execution_count": null,
      "outputs": [
        {
          "output_type": "stream",
          "text": [
            "Requirement already satisfied: gensim in /usr/local/lib/python3.7/dist-packages (3.6.0)\n",
            "Requirement already satisfied: six>=1.5.0 in /usr/local/lib/python3.7/dist-packages (from gensim) (1.15.0)\n",
            "Requirement already satisfied: numpy>=1.11.3 in /usr/local/lib/python3.7/dist-packages (from gensim) (1.19.5)\n",
            "Requirement already satisfied: smart-open>=1.2.1 in /usr/local/lib/python3.7/dist-packages (from gensim) (5.0.0)\n",
            "Requirement already satisfied: scipy>=0.18.1 in /usr/local/lib/python3.7/dist-packages (from gensim) (1.4.1)\n"
          ],
          "name": "stdout"
        }
      ]
    },
    {
      "cell_type": "code",
      "metadata": {
        "id": "wDNJi8wQHNHf"
      },
      "source": [
        "from gensim.models import word2vec\n",
        "\n",
        "model = word2vec.Word2Vec(cleaned_texts, size=100, window=5, min_count=1)\n",
        "model.wv.save_word2vec_format(r\"/content/sample_data/sample_word2vec_japanese_2.txt\")"
      ],
      "execution_count": null,
      "outputs": []
    },
    {
      "cell_type": "markdown",
      "metadata": {
        "id": "-NeEv5WxN89R"
      },
      "source": [
        ""
      ]
    },
    {
      "cell_type": "code",
      "metadata": {
        "id": "5tnmraKBSHAL",
        "colab": {
          "base_uri": "https://localhost:8080/"
        },
        "outputId": "91ec752a-0f1f-46f4-88e6-c252996b08fc"
      },
      "source": [
        "!apt-get -y install fonts-ipafont-gothic\n",
        "\n",
        "!rm /root/.cache/matplotlib/fontlist-v310.json "
      ],
      "execution_count": null,
      "outputs": [
        {
          "output_type": "stream",
          "text": [
            "Reading package lists... Done\n",
            "Building dependency tree       \n",
            "Reading state information... Done\n",
            "The following package was automatically installed and is no longer required:\n",
            "  libnvidia-common-460\n",
            "Use 'apt autoremove' to remove it.\n",
            "The following additional packages will be installed:\n",
            "  fonts-ipafont-mincho\n",
            "The following NEW packages will be installed:\n",
            "  fonts-ipafont-gothic fonts-ipafont-mincho\n",
            "0 upgraded, 2 newly installed, 0 to remove and 34 not upgraded.\n",
            "Need to get 8,251 kB of archives.\n",
            "After this operation, 28.7 MB of additional disk space will be used.\n",
            "Get:1 http://archive.ubuntu.com/ubuntu bionic/universe amd64 fonts-ipafont-gothic all 00303-18ubuntu1 [3,526 kB]\n",
            "Get:2 http://archive.ubuntu.com/ubuntu bionic/universe amd64 fonts-ipafont-mincho all 00303-18ubuntu1 [4,725 kB]\n",
            "Fetched 8,251 kB in 2s (4,447 kB/s)\n",
            "Selecting previously unselected package fonts-ipafont-gothic.\n",
            "(Reading database ... 160706 files and directories currently installed.)\n",
            "Preparing to unpack .../fonts-ipafont-gothic_00303-18ubuntu1_all.deb ...\n",
            "Unpacking fonts-ipafont-gothic (00303-18ubuntu1) ...\n",
            "Selecting previously unselected package fonts-ipafont-mincho.\n",
            "Preparing to unpack .../fonts-ipafont-mincho_00303-18ubuntu1_all.deb ...\n",
            "Unpacking fonts-ipafont-mincho (00303-18ubuntu1) ...\n",
            "Setting up fonts-ipafont-gothic (00303-18ubuntu1) ...\n",
            "update-alternatives: using /usr/share/fonts/opentype/ipafont-gothic/ipag.ttf to provide /usr/share/fonts/truetype/fonts-japanese-gothic.ttf (fonts-japanese-gothic.ttf) in auto mode\n",
            "Setting up fonts-ipafont-mincho (00303-18ubuntu1) ...\n",
            "update-alternatives: using /usr/share/fonts/opentype/ipafont-mincho/ipam.ttf to provide /usr/share/fonts/truetype/fonts-japanese-mincho.ttf (fonts-japanese-mincho.ttf) in auto mode\n",
            "Processing triggers for fontconfig (2.12.6-0ubuntu2) ...\n"
          ],
          "name": "stdout"
        }
      ]
    },
    {
      "cell_type": "code",
      "metadata": {
        "id": "ZsQhVD5QZnwN",
        "colab": {
          "base_uri": "https://localhost:8080/"
        },
        "outputId": "ae60dc5e-35b6-4ac8-8b40-37ea7a484b62"
      },
      "source": [
        "pip install japanize-matplotlib"
      ],
      "execution_count": null,
      "outputs": [
        {
          "output_type": "stream",
          "text": [
            "Collecting japanize-matplotlib\n",
            "\u001b[?25l  Downloading https://files.pythonhosted.org/packages/aa/85/08a4b7fe8987582d99d9bb7ad0ff1ec75439359a7f9690a0dbf2dbf98b15/japanize-matplotlib-1.1.3.tar.gz (4.1MB)\n",
            "\u001b[K     |████████████████████████████████| 4.1MB 6.8MB/s \n",
            "\u001b[?25hRequirement already satisfied: matplotlib in /usr/local/lib/python3.7/dist-packages (from japanize-matplotlib) (3.2.2)\n",
            "Requirement already satisfied: numpy>=1.11 in /usr/local/lib/python3.7/dist-packages (from matplotlib->japanize-matplotlib) (1.19.5)\n",
            "Requirement already satisfied: pyparsing!=2.0.4,!=2.1.2,!=2.1.6,>=2.0.1 in /usr/local/lib/python3.7/dist-packages (from matplotlib->japanize-matplotlib) (2.4.7)\n",
            "Requirement already satisfied: python-dateutil>=2.1 in /usr/local/lib/python3.7/dist-packages (from matplotlib->japanize-matplotlib) (2.8.1)\n",
            "Requirement already satisfied: kiwisolver>=1.0.1 in /usr/local/lib/python3.7/dist-packages (from matplotlib->japanize-matplotlib) (1.3.1)\n",
            "Requirement already satisfied: cycler>=0.10 in /usr/local/lib/python3.7/dist-packages (from matplotlib->japanize-matplotlib) (0.10.0)\n",
            "Requirement already satisfied: six>=1.5 in /usr/local/lib/python3.7/dist-packages (from python-dateutil>=2.1->matplotlib->japanize-matplotlib) (1.15.0)\n",
            "Building wheels for collected packages: japanize-matplotlib\n",
            "  Building wheel for japanize-matplotlib (setup.py) ... \u001b[?25l\u001b[?25hdone\n",
            "  Created wheel for japanize-matplotlib: filename=japanize_matplotlib-1.1.3-cp37-none-any.whl size=4120276 sha256=648914a5f9c2579520987b6e37d61f42be30bf2420dff68bd9e965ceced49b12\n",
            "  Stored in directory: /root/.cache/pip/wheels/b7/d9/a2/f907d50b32a2d2008ce5d691d30fb6569c2c93eefcfde55202\n",
            "Successfully built japanize-matplotlib\n",
            "Installing collected packages: japanize-matplotlib\n",
            "Successfully installed japanize-matplotlib-1.1.3\n"
          ],
          "name": "stdout"
        }
      ]
    },
    {
      "cell_type": "code",
      "metadata": {
        "id": "tDOMwFFlKRtq"
      },
      "source": [
        "from sklearn.manifold import TSNE\n",
        "import re\n",
        "import matplotlib.pyplot as plt\n",
        "import japanize_matplotlib\n",
        "import pandas as pd\n",
        "import seaborn as sns"
      ],
      "execution_count": null,
      "outputs": []
    },
    {
      "cell_type": "code",
      "metadata": {
        "colab": {
          "base_uri": "https://localhost:8080/"
        },
        "id": "KyZWrTd9PELW",
        "outputId": "b4fe9cfc-10c7-44e4-c858-96bd075f068b"
      },
      "source": [
        "df = pd.read_csv(r\"/content/sample_data/sample_word2vec_japanese.csv\", encoding=\"utf-8\")\n",
        "print(df)\n",
        "print(df.columns)"
      ],
      "execution_count": null,
      "outputs": [
        {
          "output_type": "stream",
          "text": [
            "                                               1808 100\n",
            "0     メロスは -0.002685681 0.0031641515 -0.0006825619 -...\n",
            "1     私は -0.0032228068 0.0043873806 -0.00021566373 0...\n",
            "2     その -0.0021770988 0.004394915 -0.0026953367 -0....\n",
            "3     無い 0.001999055 -0.0031630464 -0.0021512979 0.0...\n",
            "4     私を 0.0015681314 -0.0045067817 0.004987602 0.00...\n",
            "...                                                 ...\n",
            "1803  たまらなく 0.0018577437 -0.004213728 -0.0025038696 ...\n",
            "1804  口惜しいのだ -0.0046440423 -0.0035020167 -0.00106474...\n",
            "1805  勇者は 0.004091627 0.001673131 -0.003717404 0.001...\n",
            "1806  ひどく -0.0011842902 -0.0012230587 0.004850726 -0...\n",
            "1807  赤面した 0.0027986437 0.0021493048 0.0021234122 -0...\n",
            "\n",
            "[1808 rows x 1 columns]\n",
            "Index(['1808 100'], dtype='object')\n"
          ],
          "name": "stdout"
        }
      ]
    },
    {
      "cell_type": "code",
      "metadata": {
        "colab": {
          "base_uri": "https://localhost:8080/",
          "height": 404
        },
        "id": "tY0O3Fj9U7d8",
        "outputId": "d0f96e3c-b892-4513-ad0a-64ac779dd58c"
      },
      "source": [
        "df"
      ],
      "execution_count": null,
      "outputs": [
        {
          "output_type": "execute_result",
          "data": {
            "text/html": [
              "<div>\n",
              "<style scoped>\n",
              "    .dataframe tbody tr th:only-of-type {\n",
              "        vertical-align: middle;\n",
              "    }\n",
              "\n",
              "    .dataframe tbody tr th {\n",
              "        vertical-align: top;\n",
              "    }\n",
              "\n",
              "    .dataframe thead th {\n",
              "        text-align: right;\n",
              "    }\n",
              "</style>\n",
              "<table border=\"1\" class=\"dataframe\">\n",
              "  <thead>\n",
              "    <tr style=\"text-align: right;\">\n",
              "      <th></th>\n",
              "      <th>x</th>\n",
              "      <th>y</th>\n",
              "    </tr>\n",
              "  </thead>\n",
              "  <tbody>\n",
              "    <tr>\n",
              "      <th>メロスは</th>\n",
              "      <td>13.247764</td>\n",
              "      <td>26.577978</td>\n",
              "    </tr>\n",
              "    <tr>\n",
              "      <th>私は</th>\n",
              "      <td>-11.257719</td>\n",
              "      <td>4.511043</td>\n",
              "    </tr>\n",
              "    <tr>\n",
              "      <th>その</th>\n",
              "      <td>-11.754712</td>\n",
              "      <td>-7.818309</td>\n",
              "    </tr>\n",
              "    <tr>\n",
              "      <th>無い</th>\n",
              "      <td>26.020388</td>\n",
              "      <td>-8.713961</td>\n",
              "    </tr>\n",
              "    <tr>\n",
              "      <th>私を</th>\n",
              "      <td>18.564402</td>\n",
              "      <td>18.109999</td>\n",
              "    </tr>\n",
              "    <tr>\n",
              "      <th>...</th>\n",
              "      <td>...</td>\n",
              "      <td>...</td>\n",
              "    </tr>\n",
              "    <tr>\n",
              "      <th>たまらなく</th>\n",
              "      <td>20.235058</td>\n",
              "      <td>-9.626251</td>\n",
              "    </tr>\n",
              "    <tr>\n",
              "      <th>口惜しいのだ</th>\n",
              "      <td>6.065819</td>\n",
              "      <td>41.798031</td>\n",
              "    </tr>\n",
              "    <tr>\n",
              "      <th>勇者は</th>\n",
              "      <td>-42.006935</td>\n",
              "      <td>2.233230</td>\n",
              "    </tr>\n",
              "    <tr>\n",
              "      <th>ひどく</th>\n",
              "      <td>-39.381821</td>\n",
              "      <td>-5.469603</td>\n",
              "    </tr>\n",
              "    <tr>\n",
              "      <th>赤面した</th>\n",
              "      <td>26.388540</td>\n",
              "      <td>30.995127</td>\n",
              "    </tr>\n",
              "  </tbody>\n",
              "</table>\n",
              "<p>1808 rows × 2 columns</p>\n",
              "</div>"
            ],
            "text/plain": [
              "                x          y\n",
              "メロスは    13.247764  26.577978\n",
              "私は     -11.257719   4.511043\n",
              "その     -11.754712  -7.818309\n",
              "無い      26.020388  -8.713961\n",
              "私を      18.564402  18.109999\n",
              "...           ...        ...\n",
              "たまらなく   20.235058  -9.626251\n",
              "口惜しいのだ   6.065819  41.798031\n",
              "勇者は    -42.006935   2.233230\n",
              "ひどく    -39.381821  -5.469603\n",
              "赤面した    26.388540  30.995127\n",
              "\n",
              "[1808 rows x 2 columns]"
            ]
          },
          "metadata": {
            "tags": []
          },
          "execution_count": 54
        }
      ]
    },
    {
      "cell_type": "code",
      "metadata": {
        "id": "CveaYIE4foAw"
      },
      "source": [
        ""
      ],
      "execution_count": null,
      "outputs": []
    },
    {
      "cell_type": "code",
      "metadata": {
        "id": "N-D1TMGfP3dB"
      },
      "source": [
        "x = []\n",
        "y = [] \n",
        "for row in df[\"1808 100\"]:\n",
        "  rows = row.split(\" \")\n",
        "  x.append(rows[0])\n",
        "  y.append(rows[1:])"
      ],
      "execution_count": null,
      "outputs": []
    },
    {
      "cell_type": "code",
      "metadata": {
        "colab": {
          "base_uri": "https://localhost:8080/"
        },
        "id": "XHdABCTFQbuI",
        "outputId": "cb4b5c65-8e3a-4683-9fbe-a1f896f74e39"
      },
      "source": [
        "print(x[:3])\n",
        "print(print(len(y[1])))"
      ],
      "execution_count": null,
      "outputs": [
        {
          "output_type": "stream",
          "text": [
            "['メロスは', '私は', 'その']\n",
            "100\n",
            "None\n"
          ],
          "name": "stdout"
        }
      ]
    },
    {
      "cell_type": "code",
      "metadata": {
        "colab": {
          "base_uri": "https://localhost:8080/"
        },
        "id": "KSm3kruvQvBA",
        "outputId": "f8b87428-f41d-4017-db47-fde59ca695be"
      },
      "source": [
        "y_num = np.array(y)\n",
        "print(y_num)"
      ],
      "execution_count": null,
      "outputs": [
        {
          "output_type": "stream",
          "text": [
            "[['-0.002685681' '0.0031641515' '-0.0006825619' ... '-0.0043842625'\n",
            "  '-0.0033999977' '-0.0047100647']\n",
            " ['-0.0032228068' '0.0043873806' '-0.00021566373' ... '0.00033736668'\n",
            "  '0.0038490451' '-0.004868264']\n",
            " ['-0.0021770988' '0.004394915' '-0.0026953367' ... '0.00029014974'\n",
            "  '-0.004324399' '-0.0030147522']\n",
            " ...\n",
            " ['0.004091627' '0.001673131' '-0.003717404' ... '-0.002838297'\n",
            "  '-0.0029652722' '-0.004737835']\n",
            " ['-0.0011842902' '-0.0012230587' '0.004850726' ... '0.0048513613'\n",
            "  '-0.0024782082' '0.000586069']\n",
            " ['0.0027986437' '0.0021493048' '0.0021234122' ... '-0.0022419684'\n",
            "  '-0.00061116077' '0.0019257581']]\n"
          ],
          "name": "stdout"
        }
      ]
    },
    {
      "cell_type": "code",
      "metadata": {
        "id": "VT0Jb--mKYSA"
      },
      "source": [
        "tsne = TSNE(n_components=2)\n",
        "data_tsne = tsne.fit_transform(y_num)"
      ],
      "execution_count": null,
      "outputs": []
    },
    {
      "cell_type": "code",
      "metadata": {
        "id": "5Z_OeC7NKgjF"
      },
      "source": [
        "new_df = pd.DataFrame(data_tsne, index=x, columns=[\"x\", \"y\"])"
      ],
      "execution_count": null,
      "outputs": []
    },
    {
      "cell_type": "markdown",
      "metadata": {
        "id": "jwBURfvFOCpQ"
      },
      "source": [
        ""
      ]
    },
    {
      "cell_type": "code",
      "metadata": {
        "colab": {
          "base_uri": "https://localhost:8080/"
        },
        "id": "KxGLJ8gkRLlE",
        "outputId": "f9a10596-f8bd-4860-f28a-a2cf8d64a10d"
      },
      "source": [
        "print(df)"
      ],
      "execution_count": null,
      "outputs": [
        {
          "output_type": "stream",
          "text": [
            "                x          y\n",
            "メロスは    13.247764  26.577978\n",
            "私は     -11.257719   4.511043\n",
            "その     -11.754712  -7.818309\n",
            "無い      26.020388  -8.713961\n",
            "私を      18.564402  18.109999\n",
            "...           ...        ...\n",
            "たまらなく   20.235058  -9.626251\n",
            "口惜しいのだ   6.065819  41.798031\n",
            "勇者は    -42.006935   2.233230\n",
            "ひどく    -39.381821  -5.469603\n",
            "赤面した    26.388540  30.995127\n",
            "\n",
            "[1808 rows x 2 columns]\n"
          ],
          "name": "stdout"
        }
      ]
    },
    {
      "cell_type": "code",
      "metadata": {
        "id": "0N8OzbbpKycE",
        "colab": {
          "base_uri": "https://localhost:8080/",
          "height": 482
        },
        "outputId": "22540fa3-16c6-4fe9-b670-e23061c18e3c"
      },
      "source": [
        "a = [\"メロスは\",\"メロスが\", \"王を\", \"王の\", \"家へ\", \"家に\", \"綺麗な\", \"狭い\", \"ひどく\", \"私は\", \"私を\"]\n",
        "\n",
        "fig = plt.figure(figsize=(10, 8))\n",
        "ax = fig.add_subplot(1, 1, 1)\n",
        "\n",
        "for b in a:\n",
        "  ax.scatter(df[\"x\"][b], df[\"y\"][b])\n",
        "\n",
        "for b in a:\n",
        "    ax.annotate(b, (df[\"x\"][b], df[\"y\"][b]))\n",
        "\n",
        "plt.show()"
      ],
      "execution_count": null,
      "outputs": [
        {
          "output_type": "display_data",
          "data": {
            "image/png": "[encoded data removed]",
            "text/plain": [
              "<Figure size 720x576 with 1 Axes>"
            ]
          },
          "metadata": {
            "tags": [],
            "needs_background": "light"
          }
        }
      ]
    },
    {
      "cell_type": "markdown",
      "metadata": {
        "id": "lDjFDcdRMb4T"
      },
      "source": [
        "# 新しいセクション"
      ]
    }
  ]
}
