{
 "cells": [
  {
   "cell_type": "code",
   "execution_count": 7,
   "metadata": {},
   "outputs": [
    {
     "name": "stdout",
     "output_type": "stream",
     "text": [
      "b'President Donald Trump is struggling to find a compelling rationale for his reelection ahead of the final presidential debate, firing off wild, scattershot attacks against an expanding list of perceived political enemies.\\r\\n'\n"
     ]
    },
    {
     "ename": "FileNotFoundError",
     "evalue": "[Errno 2] No such file or directory: 'input_file'",
     "output_type": "error",
     "traceback": [
      "\u001b[1;31m---------------------------------------------------------------------------\u001b[0m",
      "\u001b[1;31mFileNotFoundError\u001b[0m                         Traceback (most recent call last)",
      "\u001b[1;32m<ipython-input-7-188d32eadb83>\u001b[0m in \u001b[0;36m<module>\u001b[1;34m\u001b[0m\n\u001b[0;32m     20\u001b[0m                 \u001b[1;32mreturn\u001b[0m \u001b[0mdocuments\u001b[0m\u001b[1;33m\u001b[0m\u001b[1;33m\u001b[0m\u001b[0m\n\u001b[0;32m     21\u001b[0m \u001b[1;33m\u001b[0m\u001b[0m\n\u001b[1;32m---> 22\u001b[1;33m \u001b[0mdocuments\u001b[0m \u001b[1;33m=\u001b[0m \u001b[0mread_input\u001b[0m\u001b[1;33m(\u001b[0m\u001b[1;34m\"trumptest.txt\"\u001b[0m\u001b[1;33m)\u001b[0m\u001b[1;33m\u001b[0m\u001b[1;33m\u001b[0m\u001b[0m\n\u001b[0m\u001b[0;32m     23\u001b[0m model = gensim.models.Word2Vec(\n\u001b[0;32m     24\u001b[0m         \u001b[0mdocuments\u001b[0m\u001b[1;33m,\u001b[0m\u001b[1;33m\u001b[0m\u001b[1;33m\u001b[0m\u001b[0m\n",
      "\u001b[1;32m<ipython-input-7-188d32eadb83>\u001b[0m in \u001b[0;36mread_input\u001b[1;34m(input_file)\u001b[0m\n\u001b[0;32m     13\u001b[0m \u001b[1;33m\u001b[0m\u001b[0m\n\u001b[0;32m     14\u001b[0m \u001b[1;32mdef\u001b[0m \u001b[0mread_input\u001b[0m\u001b[1;33m(\u001b[0m\u001b[0minput_file\u001b[0m\u001b[1;33m)\u001b[0m\u001b[1;33m:\u001b[0m\u001b[1;33m\u001b[0m\u001b[1;33m\u001b[0m\u001b[0m\n\u001b[1;32m---> 15\u001b[1;33m     \u001b[1;32mwith\u001b[0m \u001b[0mopen\u001b[0m\u001b[1;33m(\u001b[0m\u001b[1;34m\"input_file\"\u001b[0m\u001b[1;33m,\u001b[0m \u001b[1;34m\"rb\"\u001b[0m\u001b[1;33m)\u001b[0m \u001b[1;32mas\u001b[0m \u001b[0mf\u001b[0m\u001b[1;33m:\u001b[0m\u001b[1;33m\u001b[0m\u001b[1;33m\u001b[0m\u001b[0m\n\u001b[0m\u001b[0;32m     16\u001b[0m         \u001b[1;32mfor\u001b[0m \u001b[0mi\u001b[0m\u001b[1;33m,\u001b[0m \u001b[0mline\u001b[0m \u001b[1;32min\u001b[0m \u001b[0menumerate\u001b[0m\u001b[1;33m(\u001b[0m\u001b[0mf\u001b[0m\u001b[1;33m)\u001b[0m\u001b[1;33m:\u001b[0m\u001b[1;33m\u001b[0m\u001b[1;33m\u001b[0m\u001b[0m\n\u001b[0;32m     17\u001b[0m             \u001b[1;32mif\u001b[0m \u001b[1;33m(\u001b[0m\u001b[0mi\u001b[0m \u001b[1;33m%\u001b[0m \u001b[1;36m1000\u001b[0m \u001b[1;33m==\u001b[0m \u001b[1;36m0\u001b[0m\u001b[1;33m)\u001b[0m\u001b[1;33m:\u001b[0m\u001b[1;33m\u001b[0m\u001b[1;33m\u001b[0m\u001b[0m\n",
      "\u001b[1;31mFileNotFoundError\u001b[0m: [Errno 2] No such file or directory: 'input_file'"
     ]
    }
   ],
   "source": [
    "import gzip\n",
    "import gensim\n",
    "import logging\n",
    "\n",
    "#gensimライブラリのword2vecを使い、語彙の類似度を測る\n",
    "\n",
    "logging.basicConfig(format=\"%(asctime)s : %(legelname)s : %(message)s\", level=logging.INFO)\n",
    "\n",
    "\n",
    "with open(\"trumptest.txt\", \"rb\") as f:\n",
    "    for i, line in enumerate(f):\n",
    "        print(line)\n",
    "        break\n",
    "        \n",
    "\n",
    "def read_input(input_file):\n",
    "    with open(\"input_file\", \"rb\") as f:\n",
    "        for i, line in enumerate(f):\n",
    "            if (i % 1000 == 0):\n",
    "                loffing.info(\"read {0} reviews\".format(i))\n",
    "                documents = genism.utils.simple_preprocess(line)\n",
    "                return documents\n",
    "\n",
    "documents = read_input(\"trumptest.txt\")\n",
    "model = gensim.models.Word2Vec(\n",
    "        documents,\n",
    "        size=150,\n",
    "        window=10,\n",
    "        min_count=2,\n",
    "        workers=10,\n",
    "        iter=5)   "
   ]
  },
  {
   "cell_type": "code",
   "execution_count": 1,
   "metadata": {},
   "outputs": [
    {
     "name": "stdout",
     "output_type": "stream",
     "text": [
      "people:\n",
      "have 0.9994744062423706\n",
      "support 0.9994690418243408\n",
      "trump 0.9993679523468018\n",
      "million 0.99936443567276\n",
      "to 0.9993610382080078\n",
      "from 0.9993215203285217\n",
      "are 0.9993171691894531\n",
      "and 0.9993047714233398\n",
      "we 0.999298095703125\n",
      "1000 0.9992964267730713\n",
      "\n",
      "health:\n",
      "fxb 0.9996976256370544\n",
      "harvard 0.9996641874313354\n",
      "center 0.9996047616004944\n",
      "human 0.9995907545089722\n",
      "director 0.9994885921478271\n",
      "spending 0.9994669556617737\n",
      "gloves 0.9994633793830872\n",
      "rights 0.9994333982467651\n",
      "was 0.9994329214096069\n",
      " 0.9994228482246399\n"
     ]
    }
   ],
   "source": [
    "from gensim.models import word2vec\n",
    "from gensim.test.utils import common_texts\n",
    "import numpy as np\n",
    "\n",
    "text = []\n",
    "with open('covitartcles.txt', 'r', encoding=\"utf-8\") as f:\n",
    "    text = f.readlines()\n",
    "text = \"\".join(text)\n",
    "\n",
    "def preprocess_2(text):\n",
    "    text = text.lower()\n",
    "    text = text.replace('.', ' .')\n",
    "    text = text.replace(\",\", \"\")\n",
    "    text = text.replace(\"”\", \"\")\n",
    "    text = text.replace(\"“\", \"\")\n",
    "    text = text.replace(\"\\n\", \"\")\n",
    "    words = text.split(' ')\n",
    "    return text\n",
    "\n",
    "text = preprocess_2(text)\n",
    "sentences = text.split(\".\")\n",
    "word_list = []\n",
    "for sentence in sentences:\n",
    "    sublist = []\n",
    "    words = sentence.split(\" \")\n",
    "    for words in words:\n",
    "        sublist.append(words)\n",
    "    word_list.append(sublist)\n",
    "    \n",
    "model = word2vec.Word2Vec(word_list, size=100, min_count=0, window=5, iter=100)\n",
    "\n",
    "print(\"people:\")\n",
    "for item, value in model.wv.most_similar(\"people\"):\n",
    "    print(item, value)\n",
    "print(\"\\nhealth:\")\n",
    "for item, value in model.wv.most_similar(\"health\"):\n",
    "    print(item, value)\n",
    "f.close()"
   ]
  },
  {
   "cell_type": "code",
   "execution_count": null,
   "metadata": {},
   "outputs": [],
   "source": []
  }
 ],
 "metadata": {
  "kernelspec": {
   "display_name": "Python 3",
   "language": "python",
   "name": "python3"
  },
  "language_info": {
   "codemirror_mode": {
    "name": "ipython",
    "version": 3
   },
   "file_extension": ".py",
   "mimetype": "text/x-python",
   "name": "python",
   "nbconvert_exporter": "python",
   "pygments_lexer": "ipython3",
   "version": "3.7.6"
  }
 },
 "nbformat": 4,
 "nbformat_minor": 4
}
